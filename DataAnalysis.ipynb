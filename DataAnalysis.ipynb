{
 "cells": [
  {
   "cell_type": "markdown",
   "metadata": {},
   "source": [
    "# Step 1: Data Processing"
   ]
  },
  {
   "cell_type": "markdown",
   "metadata": {},
   "source": [
    "## 1.1 Feature Extraction"
   ]
  },
  {
   "cell_type": "markdown",
   "metadata": {},
   "source": [
    "The '**extract_features**' function extracts the pitch, velocity and duration from every instrument present inside the midi file and stores it in a list data structure. \n",
    "\n",
    "**Parameter** :     a string of the file location of the MIDI type file\n",
    "\n",
    "**Output** :        a List containing the information of the features extracted"
   ]
  },
  {
   "cell_type": "code",
   "execution_count": 2,
   "metadata": {},
   "outputs": [],
   "source": [
    "import os \n",
    "import pretty_midi\n",
    "import numpy as np\n",
    "\n",
    "def extract_features(midi_file):\n",
    "    # Initalizing lists \n",
    "    pitches = []\n",
    "    velocities = []\n",
    "    durations = []\n",
    "    \n",
    "    # Loading the MIDI file in a variable\n",
    "    midi_data = pretty_midi.PrettyMIDI(midi_file)\n",
    "    \n",
    "    # Extracting pitch, velocity and note duration features\n",
    "    for instrument in midi_data.instruments:\n",
    "        \n",
    "        # Loop through each note and add to the lists \n",
    "        for note in instrument.notes:\n",
    "            pitches.append(note.pitch)\n",
    "            velocities.append(note.velocity)\n",
    "            durations.append(note.end - note.start)\n",
    "    \n",
    "    return [pitches, velocities, durations]"
   ]
  },
  {
   "cell_type": "markdown",
   "metadata": {},
   "source": [
    "## 1.2 Loading the Dataset features into Data Structure"
   ]
  },
  {
   "cell_type": "markdown",
   "metadata": {},
   "source": [
    "The '**load_dataset**' function locates all the directories of the respecticve composers and points to the .mid files from each of the composer while also labeling those composers. It then calls the '**extract_features**' function on each of the pointed .mod files and saves its data inside the a datastructure which we will use for model training and testing\n",
    "\n",
    "**Parameters**: a string of the folder path which points to the folder of *PS1*.\n",
    " \n",
    "**Output**: Two Lists, \n",
    "                        'X', which consists of all the extracted features of all the composers\n",
    "                        'y, labels of the extracted features to identify which composer it belongs\n",
    "\n",
    "The Following image accurately shows the algorithmic flow of this function,"
   ]
  },
  {
   "cell_type": "markdown",
   "metadata": {},
   "source": [
    "<img src=\"Doc_images/loadmidi.png\" alt=\"Alternative text\" width=\"80%\" height=\"80%\" />"
   ]
  },
  {
   "cell_type": "code",
   "execution_count": 3,
   "metadata": {},
   "outputs": [],
   "source": [
    "def load_dataset(folder_path):\n",
    "    X = []\n",
    "    y = []\n",
    "    \n",
    "    # Creating a dictionary to label the composers\n",
    "    composer_label = {'Bach':0, 'Beethoven':1, 'Brahms':2, 'Schubert':3}\n",
    "    \n",
    "    # Loop through each of the composers folder\n",
    "    for composer_folder in os.listdir(folder_path):\n",
    "        \n",
    "        # We ignore all the hidden files \n",
    "        if not composer_folder.startswith('.'):\n",
    "            composer_path = os.path.join(folder_path, composer_folder)\n",
    "            \n",
    "            # Label is set ot -1 if the composer is not from our labels\n",
    "            label = composer_label.get(composer_folder, -1)\n",
    "            \n",
    "            if label >= 0 and label <=3:\n",
    "                # We will Loop over every '.mid' file in the composers folder\n",
    "                for file in os.listdir(composer_path):\n",
    "                    if file.endswith('.mid'):\n",
    "                        midi_file = os.path.join(composer_path, file)\n",
    "                        \n",
    "                        # We will nest our code inside a try except, as it will catch any unknown parsing errors \n",
    "                        try:\n",
    "                            midi_features = extract_features(midi_file)\n",
    "                            X.append(midi_features)\n",
    "                            y.append(label)\n",
    "                        except Exception as e:\n",
    "                            print(f\"Error Processing {midi_file}: {str(e)}\")\n",
    "                            continue\n",
    "    \n",
    "    return X, y \n"
   ]
  },
  {
   "cell_type": "markdown",
   "metadata": {},
   "source": [
    "## 1.3 Feature Engineering "
   ]
  },
  {
   "cell_type": "markdown",
   "metadata": {},
   "source": [
    "The '**feature_padding**' function is used to match the size of each feature by padding 0's at the end. We will match each feature length with the maximum length of a feature\n",
    "\n",
    "**Parameters**: The Data Structure containing all of the features\n",
    "\n",
    "**Output**: It gives out a list containing the new Data Structure with all the padded features. The image below is an accurate summarization for the structure of the Data"
   ]
  },
  {
   "cell_type": "markdown",
   "metadata": {},
   "source": [
    "<img src=\"Doc_images/midiData.png\" alt=\"Alternative text\" width=\"35%\" height=\"35%\" />"
   ]
  },
  {
   "cell_type": "code",
   "execution_count": 4,
   "metadata": {},
   "outputs": [],
   "source": [
    "def feature_padding(feature_data):\n",
    "    X_padded = []\n",
    "    \n",
    "    # We will find the maximum length of the features\n",
    "    max_pitch_length = max(len(x[0]) for x in feature_data)\n",
    "    max_velocity_length = max(len(x[1]) for x in feature_data)\n",
    "    max_duration_length = max(len(x[1]) for x in feature_data)\n",
    "    \n",
    "    # Pad to maximum length by Looping through each pitch velcoity and duration\n",
    "    for pitch, velocity, duration in feature_data:\n",
    "        \n",
    "        # Padding 0's so that each feature length can be equal to the maximum feature length\n",
    "        padded_pitch = np.pad(pitch, (0, max_pitch_length - len(pitch)), mode = 'constant')\n",
    "        padded_velocity = np.pad(velocity, (0, max_pitch_length - len(velocity)), mode = 'constant')\n",
    "        padded_duration = np.pad(duration, (0, max_pitch_length - len(duration)), mode = 'constant')\n",
    "        X_padded.append([padded_pitch, padded_velocity, padded_duration])\n",
    "    \n",
    "    return X_padded"
   ]
  },
  {
   "cell_type": "markdown",
   "metadata": {},
   "source": [
    "## 1.4 Splitting the Data into Train Test"
   ]
  },
  {
   "cell_type": "markdown",
   "metadata": {},
   "source": [
    "In this part we will split the extracted features data structures into training and testing portions. This is to train our Machine Learning Algorithm"
   ]
  },
  {
   "cell_type": "code",
   "execution_count": 5,
   "metadata": {},
   "outputs": [
    {
     "name": "stderr",
     "output_type": "stream",
     "text": [
      "/Users/ibrahimbukhari/Documents/CodingProjects/MidiAnalysis/MidiAnalysis/lib/python3.11/site-packages/pretty_midi/pretty_midi.py:100: RuntimeWarning: Tempo, Key or Time signature change events found on non-zero tracks.  This is not a valid type 0 or type 1 MIDI file.  Tempo, Key or Time Signature may be wrong.\n",
      "  warnings.warn(\n"
     ]
    },
    {
     "name": "stdout",
     "output_type": "stream",
     "text": [
      "Error Processing Datasets/PS1/Bach/WTK I, No. 14: Prelude and Fugue in F-sharp minor_BWV859_2305_prelude14.mid: no MTrk header at start of track\n"
     ]
    }
   ],
   "source": [
    "from sklearn.model_selection import train_test_split\n",
    "\n",
    "# Path to the folder containing directories of each composers MIDI files\n",
    "PS1_FOLDER_PATH = \"Datasets/PS1\"\n",
    "\n",
    "# Load the data\n",
    "X_raw, y = load_dataset(PS1_FOLDER_PATH)\n",
    "\n",
    "# Pad the raw Data\n",
    "X = feature_padding(X_raw)\n",
    "\n",
    "# Split the data into training and testing sets\n",
    "X_train, X_test, y_train, y_test = train_test_split(X, y, test_size=0.3, random_state=42)"
   ]
  },
  {
   "cell_type": "markdown",
   "metadata": {},
   "source": [
    "# Step 2: Model Training"
   ]
  },
  {
   "cell_type": "markdown",
   "metadata": {},
   "source": [
    "## 2.1 Training our Model"
   ]
  },
  {
   "cell_type": "markdown",
   "metadata": {},
   "source": [
    "For classifying the composers we will use the Random Forest Classifier."
   ]
  },
  {
   "cell_type": "markdown",
   "metadata": {},
   "source": [
    "The '**train_model**' function trains the Random Forest Classifier by feeding it with a flattened version of the Data\n",
    "\n",
    "**Parameters**: X_train, a list of the data we will use in training the data <br/>\n",
    "                y_train, a list of labels for the classifier\n",
    "\n",
    "**Output**: A trained Random Forest Classifier Model "
   ]
  },
  {
   "cell_type": "code",
   "execution_count": 6,
   "metadata": {},
   "outputs": [],
   "source": [
    "from sklearn.ensemble import RandomForestClassifier\n",
    "\n",
    "def train_model(X_train, y_train):\n",
    "\n",
    "    # Flatten the padded features for training\n",
    "    X_train_flat = np.array([np.concatenate(x) for x in X_train])\n",
    "\n",
    "    # Train a random forest classifier\n",
    "    model = RandomForestClassifier()\n",
    "    model.fit(X_train_flat, y_train)\n",
    "\n",
    "    return model"
   ]
  },
  {
   "cell_type": "markdown",
   "metadata": {},
   "source": [
    "## 2.2 Evaluating our Model"
   ]
  },
  {
   "cell_type": "markdown",
   "metadata": {},
   "source": [
    "In '**evaluate_model**' function we will use the rest of our '*X_test*' data to make a prediction with our model and then evaluate our predictions with the orginal answers. We will then return our evaluation result\n",
    "\n",
    "**Parameters**: *model*, trained random forest model<br/>\n",
    "                *X_test*, the data we split for the test portion<br/>\n",
    "                *y_test*, the orignal labels to the X_test data<br/>\n",
    "\n",
    "**Output**: *accuracy*, a numerical value between 0 and 1 indicating our accuracy "
   ]
  },
  {
   "cell_type": "code",
   "execution_count": 7,
   "metadata": {},
   "outputs": [],
   "source": [
    "from sklearn.metrics import accuracy_score\n",
    "\n",
    "def evaluate_model(model, X_test, y_test):\n",
    "\n",
    "    # Flatten the padded features for testing\n",
    "    X_test_flat = np.array([np.concatenate(x) for x in X_test])\n",
    "\n",
    "    # Make predictions on the test set\n",
    "    y_pred = model.predict(X_test_flat)\n",
    "\n",
    "    # Calculate accuracy\n",
    "    accuracy = accuracy_score(y_test, y_pred)\n",
    "    \n",
    "    return accuracy"
   ]
  },
  {
   "cell_type": "markdown",
   "metadata": {},
   "source": [
    "## 2.3 Putting it all together"
   ]
  },
  {
   "cell_type": "code",
   "execution_count": 8,
   "metadata": {},
   "outputs": [
    {
     "name": "stdout",
     "output_type": "stream",
     "text": [
      "0.7846153846153846\n"
     ]
    }
   ],
   "source": [
    "# Train the model\n",
    "model = train_model(X_train, y_train)\n",
    "\n",
    "# Evaluate the model\n",
    "print(evaluate_model(model, X_test, y_test))"
   ]
  },
  {
   "cell_type": "markdown",
   "metadata": {},
   "source": [
    "# Step 3: Classify using Model"
   ]
  },
  {
   "cell_type": "code",
   "execution_count": 16,
   "metadata": {},
   "outputs": [],
   "source": [
    "def classify_audio(model, midi_file):\n",
    "    # Extracting features from the MIDI file\n",
    "    pitches, velocities, durations = extract_features(midi_file)\n",
    "\n",
    "    # Ensuring that the features match the expected dimensions\n",
    "    max_pitches_len = model.n_features_in_ // 3\n",
    "    max_velocities_len = model.n_features_in_ // 3\n",
    "    max_durations_len = model.n_features_in_ // 3\n",
    "\n",
    "    padded_pitches = np.pad(pitches, (0, max_pitches_len - len(pitches)), mode='constant')\n",
    "    padded_velocities = np.pad(velocities, (0, max_velocities_len - len(velocities)), mode='constant')\n",
    "    padded_durations = np.pad(durations, (0, max_durations_len - len(durations)), mode='constant')\n",
    "\n",
    "    features = np.concatenate([padded_pitches, padded_velocities, padded_durations]).reshape(1, -1)\n",
    "\n",
    "    # Making a prediction using the trained model\n",
    "    composer_index = model.predict(features)[0]\n",
    "\n",
    "    composer_label = {0:'Bach', 1:'Beethoven', 2:'Brahms', 3:'Schubert'}    \n",
    "    composer = composer_label.get(composer_index, 'Unknown')\n",
    "\n",
    "    return composer\n"
   ]
  },
  {
   "cell_type": "code",
   "execution_count": 17,
   "metadata": {},
   "outputs": [
    {
     "name": "stdout",
     "output_type": "stream",
     "text": [
      "Composer is Beethoven\n",
      "Composer is Beethoven\n",
      "Composer is Schubert\n"
     ]
    },
    {
     "name": "stderr",
     "output_type": "stream",
     "text": [
      "/Users/ibrahimbukhari/Documents/CodingProjects/MidiAnalysis/MidiAnalysis/lib/python3.11/site-packages/pretty_midi/pretty_midi.py:100: RuntimeWarning: Tempo, Key or Time signature change events found on non-zero tracks.  This is not a valid type 0 or type 1 MIDI file.  Tempo, Key or Time Signature may be wrong.\n",
      "  warnings.warn(\n",
      "/Users/ibrahimbukhari/Documents/CodingProjects/MidiAnalysis/MidiAnalysis/lib/python3.11/site-packages/pretty_midi/pretty_midi.py:100: RuntimeWarning: Tempo, Key or Time signature change events found on non-zero tracks.  This is not a valid type 0 or type 1 MIDI file.  Tempo, Key or Time Signature may be wrong.\n",
      "  warnings.warn(\n",
      "/Users/ibrahimbukhari/Documents/CodingProjects/MidiAnalysis/MidiAnalysis/lib/python3.11/site-packages/pretty_midi/pretty_midi.py:100: RuntimeWarning: Tempo, Key or Time signature change events found on non-zero tracks.  This is not a valid type 0 or type 1 MIDI file.  Tempo, Key or Time Signature may be wrong.\n",
      "  warnings.warn(\n",
      "/Users/ibrahimbukhari/Documents/CodingProjects/MidiAnalysis/MidiAnalysis/lib/python3.11/site-packages/pretty_midi/pretty_midi.py:100: RuntimeWarning: Tempo, Key or Time signature change events found on non-zero tracks.  This is not a valid type 0 or type 1 MIDI file.  Tempo, Key or Time Signature may be wrong.\n",
      "  warnings.warn(\n",
      "/Users/ibrahimbukhari/Documents/CodingProjects/MidiAnalysis/MidiAnalysis/lib/python3.11/site-packages/pretty_midi/pretty_midi.py:100: RuntimeWarning: Tempo, Key or Time signature change events found on non-zero tracks.  This is not a valid type 0 or type 1 MIDI file.  Tempo, Key or Time Signature may be wrong.\n",
      "  warnings.warn(\n",
      "/Users/ibrahimbukhari/Documents/CodingProjects/MidiAnalysis/MidiAnalysis/lib/python3.11/site-packages/pretty_midi/pretty_midi.py:100: RuntimeWarning: Tempo, Key or Time signature change events found on non-zero tracks.  This is not a valid type 0 or type 1 MIDI file.  Tempo, Key or Time Signature may be wrong.\n",
      "  warnings.warn(\n"
     ]
    },
    {
     "name": "stdout",
     "output_type": "stream",
     "text": [
      "Composer is Beethoven\n",
      "Composer is Beethoven\n",
      "Composer is Bach\n",
      "Composer is Beethoven\n",
      "Composer is Bach\n",
      "Composer is Beethoven\n",
      "Composer is Bach\n",
      "Composer is Beethoven\n",
      "Composer is Schubert\n",
      "Composer is Bach\n",
      "Composer is Bach\n",
      "Composer is Bach\n",
      "Composer is Bach\n",
      "Composer is Beethoven\n",
      "Composer is Beethoven\n",
      "Composer is Bach\n"
     ]
    },
    {
     "name": "stderr",
     "output_type": "stream",
     "text": [
      "/Users/ibrahimbukhari/Documents/CodingProjects/MidiAnalysis/MidiAnalysis/lib/python3.11/site-packages/pretty_midi/pretty_midi.py:100: RuntimeWarning: Tempo, Key or Time signature change events found on non-zero tracks.  This is not a valid type 0 or type 1 MIDI file.  Tempo, Key or Time Signature may be wrong.\n",
      "  warnings.warn(\n"
     ]
    },
    {
     "name": "stdout",
     "output_type": "stream",
     "text": [
      "Composer is Schubert\n",
      "Composer is Bach\n",
      "Composer is Beethoven\n",
      "Composer is Bach\n",
      "Composer is Beethoven\n",
      "Composer is Brahms\n",
      "Composer is Beethoven\n"
     ]
    },
    {
     "name": "stderr",
     "output_type": "stream",
     "text": [
      "/Users/ibrahimbukhari/Documents/CodingProjects/MidiAnalysis/MidiAnalysis/lib/python3.11/site-packages/pretty_midi/pretty_midi.py:100: RuntimeWarning: Tempo, Key or Time signature change events found on non-zero tracks.  This is not a valid type 0 or type 1 MIDI file.  Tempo, Key or Time Signature may be wrong.\n",
      "  warnings.warn(\n",
      "/Users/ibrahimbukhari/Documents/CodingProjects/MidiAnalysis/MidiAnalysis/lib/python3.11/site-packages/pretty_midi/pretty_midi.py:100: RuntimeWarning: Tempo, Key or Time signature change events found on non-zero tracks.  This is not a valid type 0 or type 1 MIDI file.  Tempo, Key or Time Signature may be wrong.\n",
      "  warnings.warn(\n",
      "/Users/ibrahimbukhari/Documents/CodingProjects/MidiAnalysis/MidiAnalysis/lib/python3.11/site-packages/pretty_midi/pretty_midi.py:100: RuntimeWarning: Tempo, Key or Time signature change events found on non-zero tracks.  This is not a valid type 0 or type 1 MIDI file.  Tempo, Key or Time Signature may be wrong.\n",
      "  warnings.warn(\n",
      "/Users/ibrahimbukhari/Documents/CodingProjects/MidiAnalysis/MidiAnalysis/lib/python3.11/site-packages/pretty_midi/pretty_midi.py:100: RuntimeWarning: Tempo, Key or Time signature change events found on non-zero tracks.  This is not a valid type 0 or type 1 MIDI file.  Tempo, Key or Time Signature may be wrong.\n",
      "  warnings.warn(\n"
     ]
    },
    {
     "name": "stdout",
     "output_type": "stream",
     "text": [
      "Composer is Beethoven\n",
      "Composer is Beethoven\n",
      "Composer is Beethoven\n",
      "Composer is Schubert\n",
      "Composer is Beethoven\n",
      "Composer is Beethoven\n",
      "Composer is Beethoven\n",
      "Composer is Beethoven\n",
      "Composer is Beethoven\n"
     ]
    },
    {
     "name": "stderr",
     "output_type": "stream",
     "text": [
      "/Users/ibrahimbukhari/Documents/CodingProjects/MidiAnalysis/MidiAnalysis/lib/python3.11/site-packages/pretty_midi/pretty_midi.py:100: RuntimeWarning: Tempo, Key or Time signature change events found on non-zero tracks.  This is not a valid type 0 or type 1 MIDI file.  Tempo, Key or Time Signature may be wrong.\n",
      "  warnings.warn(\n",
      "/Users/ibrahimbukhari/Documents/CodingProjects/MidiAnalysis/MidiAnalysis/lib/python3.11/site-packages/pretty_midi/pretty_midi.py:100: RuntimeWarning: Tempo, Key or Time signature change events found on non-zero tracks.  This is not a valid type 0 or type 1 MIDI file.  Tempo, Key or Time Signature may be wrong.\n",
      "  warnings.warn(\n"
     ]
    }
   ],
   "source": [
    "entriesps2 = os.listdir('Datasets/PS2')\n",
    "\n",
    "trained_model = model\n",
    "\n",
    "for ent in entriesps2:\n",
    "    file_name_ps2 = \"Datasets/PS2/\"+ent\n",
    "    composer = classify_audio(trained_model, file_name_ps2)\n",
    "    print(f\"Composer is {composer}\")"
   ]
  }
 ],
 "metadata": {
  "kernelspec": {
   "display_name": "Python 3.11.3 ('MidiAnalysis': venv)",
   "language": "python",
   "name": "python3"
  },
  "language_info": {
   "codemirror_mode": {
    "name": "ipython",
    "version": 3
   },
   "file_extension": ".py",
   "mimetype": "text/x-python",
   "name": "python",
   "nbconvert_exporter": "python",
   "pygments_lexer": "ipython3",
   "version": "3.11.3"
  },
  "orig_nbformat": 4,
  "vscode": {
   "interpreter": {
    "hash": "1271b762eb5a5b9e383800146d2e5d1fdc3df4c5149685a7980e41ddfe95506a"
   }
  }
 },
 "nbformat": 4,
 "nbformat_minor": 2
}
