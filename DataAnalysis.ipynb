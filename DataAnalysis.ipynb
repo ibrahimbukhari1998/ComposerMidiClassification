{
 "cells": [
  {
   "cell_type": "markdown",
   "metadata": {},
   "source": [
    "# Step 1: Data Processing"
   ]
  },
  {
   "cell_type": "markdown",
   "metadata": {},
   "source": [
    "## 1.1 Load Dataset \n",
    "\n",
    "This function saves the midi file location so that we can easily analyze and extract information form them later on during Data Exploration"
   ]
  },
  {
   "cell_type": "code",
   "execution_count": 45,
   "metadata": {},
   "outputs": [],
   "source": [
    "import os\n",
    "import numpy as np\n",
    "import pretty_midi\n",
    "import matplotlib.pyplot as plt\n",
    "\n",
    "def load_midi_locations(base_dir):\n",
    "    \"\"\"\n",
    "    Loads the MIDI file locations from the specified base directory.\n",
    "    \n",
    "    Args:\n",
    "        base_dir (str): The base directory path.\n",
    "        \n",
    "    Returns:\n",
    "        list: A list of lists, where each inner list contains the file paths for a composer.\n",
    "    \"\"\"\n",
    "    \n",
    "    # Initializing a list to store file locations\n",
    "    file_names = []\n",
    "    \n",
    "    # Iterate over each folder in the specified directory\n",
    "    for composer_folder in os.listdir(base_dir):\n",
    "        # Check if the folder name starts with a dot (hidden folder)\n",
    "        if not composer_folder.startswith('.'):\n",
    "            # Construct the full path to the composer folder\n",
    "            composer_path = os.path.join(base_dir, composer_folder)\n",
    "            \n",
    "            # Initialize a temporary list to store file paths for the current composer\n",
    "            tmp = []\n",
    "            \n",
    "            # Iterate over each file in the composer folder\n",
    "            for file_name in os.listdir(composer_path):\n",
    "                # Construct the full path to the file and append it to the temporary list\n",
    "                file_path = os.path.join(composer_path, file_name)\n",
    "                tmp.append(file_path)\n",
    "            \n",
    "            # Append the list of file paths for the current composer to the main list\n",
    "            file_names.append(tmp)\n",
    "    \n",
    "    return file_names"
   ]
  },
  {
   "cell_type": "code",
   "execution_count": 46,
   "metadata": {},
   "outputs": [],
   "source": [
    "file_paths = load_midi_locations(\"Datasets/PS1\")"
   ]
  },
  {
   "cell_type": "markdown",
   "metadata": {},
   "source": [
    "## 1.2 Exploratory Data Analysis"
   ]
  },
  {
   "cell_type": "markdown",
   "metadata": {},
   "source": [
    "For the EDA we will focus on some of the features which help us analyze the rhythmic patterns through note-based features, tempo and more. The features which we will be focusing on are the following"
   ]
  },
  {
   "cell_type": "markdown",
   "metadata": {},
   "source": [
    "1. **Note-Based Features**:\n",
    "\n",
    "   - **Pitch**: Is a collection of pitches of it's coresponding notes.\n",
    "\n",
    "   - **Melodic Intervals**: Calculate the distribution of melodic intervals (differences in pitch between consecutive notes). It reflects melodic \n",
    "   patterns and contour.\n",
    "   \n",
    "   - **Note Densities**: Determine the average number of notes per unit of time. It indicates the level of musical activity or density.\n",
    "   \n",
    "\n",
    "2. **Timing and Tempo Features**:\n",
    "\n",
    "   - **Inter-Onset Intervals**: Calculate the time differences between consecutive note onsets. It represents the rhythmic patterns and tempo fluctuations.\n",
    "3. **Melodic and Rhythmic Patterns**:\n",
    "\n",
    "   - **N-grams**: Extract melodic or rhythmic patterns using n-grams. They represent recurring sequences of notes or rhythms.\n",
    "\n",
    "   - **Motif Analysis**: Identify specific motifs or musical themes within the composition. It captures distinctive melodic or rhythmic patterns associated with a composer's style.\n",
    "\n",
    "\n",
    "4. **Structural Features**:\n",
    "\n",
    "   - **Section Analysis**: Divide the composition into sections (e.g., intro, verse, chorus) and analyze their durations, patterns, or transitions.\n",
    "   \n",
    "   - **Repetition Analysis**: Identify repeated musical sections or patterns. It captures structural and compositional elements."
   ]
  },
  {
   "cell_type": "code",
   "execution_count": 59,
   "metadata": {},
   "outputs": [],
   "source": [
    "# This is a sample MIDI file which has been loaded to perform Data exploration\n",
    "midi_data = pretty_midi.PrettyMIDI(file_paths[0][14])"
   ]
  },
  {
   "cell_type": "markdown",
   "metadata": {},
   "source": [
    "### 1. Pitch \n",
    "\n",
    "Pitch feature is very usefull for classification and identification of composers as it provides information about the tonal and harmonic content of the music, which is often distinctive across different composers. It's values and their relationships can also capture melodic patterns and tonal characteristics that contribute to a composer's style."
   ]
  },
  {
   "cell_type": "code",
   "execution_count": 109,
   "metadata": {},
   "outputs": [],
   "source": [
    "def extract_pitch(midi_data):\n",
    "    # Initalizing lists \n",
    "    pitches = []\n",
    "    \n",
    "    # Extracting pitch, velocity and note duration features\n",
    "    for instrument in midi_data.instruments:\n",
    "        \n",
    "        # Loop through each note and add to the lists \n",
    "        for note in instrument.notes:\n",
    "            pitches.append(note.pitch)\n",
    "    \n",
    "    return pitches"
   ]
  },
  {
   "cell_type": "markdown",
   "metadata": {},
   "source": [
    "In the visualization below we take a sample MIDI file to perform analysis upon"
   ]
  },
  {
   "cell_type": "code",
   "execution_count": 110,
   "metadata": {},
   "outputs": [
    {
     "data": {
      "image/png": "[encoded data removed]",
      "text/plain": [
       "<Figure size 640x480 with 1 Axes>"
      ]
     },
     "metadata": {},
     "output_type": "display_data"
    }
   ],
   "source": [
    "# Extract the pitches from the MIDI data\n",
    "pitches = extract_pitch(midi_data)\n",
    "\n",
    "# Create a histogram plot\n",
    "plt.hist(pitches, bins=range(min(pitches), max(pitches) + 1), edgecolor='black')\n",
    "plt.xlabel('Pitch')\n",
    "plt.ylabel('Frequency')\n",
    "plt.title('Pitch Distribution')\n",
    "plt.show()"
   ]
  },
  {
   "cell_type": "markdown",
   "metadata": {},
   "source": [
    "### 2. Melodic Intervals\n",
    "\n",
    "Calculates the distribution of melodic intervals (differences in pitch between consecutive notes). It reflects melodic patterns and contour."
   ]
  },
  {
   "cell_type": "code",
   "execution_count": 112,
   "metadata": {},
   "outputs": [],
   "source": [
    "def extract_melodic_intervals(pitch_array):\n",
    "    intervals = []\n",
    "    \n",
    "    for note1, note2 in zip(pitch_array[:-1], pitch_array[1:]):\n",
    "        interval = note2 - note1\n",
    "        intervals.append(interval)\n",
    "    \n",
    "    return intervals"
   ]
  },
  {
   "cell_type": "markdown",
   "metadata": {},
   "source": [
    "Below we visualize the previously analyzed MIDI sample"
   ]
  },
  {
   "cell_type": "code",
   "execution_count": 113,
   "metadata": {},
   "outputs": [
    {
     "data": {
      "image/png": "[encoded data removed]",
      "text/plain": [
       "<Figure size 640x480 with 1 Axes>"
      ]
     },
     "metadata": {},
     "output_type": "display_data"
    }
   ],
   "source": [
    "intervals = extract_melodic_intervals(pitches)\n",
    "    \n",
    "plt.hist(intervals, bins='auto', alpha=0.7)\n",
    "plt.xlabel('Melodic Interval')\n",
    "plt.ylabel('Count')\n",
    "plt.title('Distribution of Melodic Intervals')\n",
    "plt.grid(True)\n",
    "plt.show()"
   ]
  },
  {
   "cell_type": "markdown",
   "metadata": {},
   "source": [
    "### 3. Note Densities\n",
    "\n",
    "Determine the average number of notes per unit of time. It indicates the label of musical activity or density"
   ]
  },
  {
   "cell_type": "code",
   "execution_count": 114,
   "metadata": {},
   "outputs": [],
   "source": [
    "def extract_note_densities(midi_data):\n",
    "    time_window = 2.0  # Time window in seconds\n",
    "    note_densities = []\n",
    "    current_time = 0.0\n",
    "    \n",
    "    while current_time < midi_data.get_end_time():\n",
    "        notes_in_window = []\n",
    "        \n",
    "        for instrument in midi_data.instruments:\n",
    "            notes_in_window.extend(instrument.notes)\n",
    "        \n",
    "        notes_in_window = [note for note in notes_in_window if note.start >= current_time and note.start < current_time + time_window]\n",
    "        note_density = len(notes_in_window) / time_window\n",
    "        note_densities.append(note_density)\n",
    "        current_time += time_window\n",
    "    \n",
    "    return note_densities"
   ]
  },
  {
   "cell_type": "markdown",
   "metadata": {},
   "source": [
    "### 4. Inter-Onset Intervals\n",
    "\n",
    " Calculates the time differences between consecutive note onsets. It represents the rhythmic patterns and tempo fluctuations."
   ]
  },
  {
   "cell_type": "code",
   "execution_count": 115,
   "metadata": {},
   "outputs": [],
   "source": [
    "def extract_inter_onset_intervals(midi_data):\n",
    "    iois = []\n",
    "    prev_onset = 0\n",
    "    \n",
    "    for instrument in midi_data.instruments:\n",
    "        \n",
    "        sorted_notes = sorted(instrument.notes, key=lambda note: note.start)\n",
    "        \n",
    "        for note in sorted_notes:\n",
    "            ioi = note.start - prev_onset\n",
    "            iois.append(ioi)\n",
    "            prev_onset = note.start\n",
    "    \n",
    "    return iois"
   ]
  },
  {
   "cell_type": "code",
   "execution_count": 116,
   "metadata": {},
   "outputs": [
    {
     "name": "stdout",
     "output_type": "stream",
     "text": [
      "Inter Onset Intervals:   -958.8640036250001\n"
     ]
    },
    {
     "data": {
      "image/png": "[encoded data removed]",
      "text/plain": [
       "<Figure size 640x480 with 1 Axes>"
      ]
     },
     "metadata": {},
     "output_type": "display_data"
    }
   ],
   "source": [
    "npiois = extract_inter_onset_intervals(midi_data)\n",
    "print(\"Inter Onset Intervals:  \", np.min(npiois))\n",
    "\n",
    "# Visualize inter-onset intervals\n",
    "plt.hist(npiois, bins=50)\n",
    "plt.xlabel('Inter-Onset Interval (seconds)')\n",
    "plt.ylabel('Count')\n",
    "plt.title('Inter-Onset Intervals Distribution')\n",
    "plt.show()"
   ]
  },
  {
   "cell_type": "markdown",
   "metadata": {},
   "source": [
    "## 1.3 Feature Extraction"
   ]
  },
  {
   "cell_type": "markdown",
   "metadata": {},
   "source": [
    "The **extract_features** function takes a base directory as input and extracts various musical features from MIDI files found in that directory. \n",
    "\n",
    "These features include pitch, melodic intervals, note densities, and inter-onset intervals. \n",
    "\n",
    "The function assigns labels to the composers based on the filenames of the MIDI files and returns the extracted features as a padded numpy array, along with the corresponding composer labels."
   ]
  },
  {
   "cell_type": "markdown",
   "metadata": {},
   "source": [
    "The Image Below summarizes the Structure of the Data :\n",
    "\n",
    "<img src=\"Doc_images/midiData.png\" alt=\"Alternative text\" width=\"35%\" height=\"35%\" />"
   ]
  },
  {
   "cell_type": "code",
   "execution_count": 126,
   "metadata": {},
   "outputs": [],
   "source": [
    "def extract_features(base_dir):\n",
    "    \"\"\"\n",
    "    Extracts features from MIDI files in the specified directory.\n",
    "    \n",
    "    Args:\n",
    "        base_dir (str): The base directory containing the MIDI files.\n",
    "    \n",
    "    Returns:\n",
    "        X (numpy.ndarray): The extracted features, padded to have equal length.\n",
    "        y (numpy.ndarray): The corresponding labels for the composers.\n",
    "    \"\"\"\n",
    "    \n",
    "    X = []\n",
    "    y = []    \n",
    "    max_length = 0  # Variable to store the maximum length of features\n",
    "    \n",
    "    # Loading the file locations of all MIDI data\n",
    "    file_pathways = load_midi_locations(base_dir)\n",
    "    \n",
    "    # Creating a dictionary to label the composers\n",
    "    composer_label = {'Bach': 0, 'Beethoven': 1, 'Brahms': 2, 'Schubert': 3}\n",
    "    \n",
    "    for composers in file_pathways:\n",
    "        \n",
    "        for composer_files in composers:\n",
    "\n",
    "            try: \n",
    "                midi_data = pretty_midi.PrettyMIDI(composer_files)\n",
    "                \n",
    "                # Extracting different features from MIDI data\n",
    "                pitch = extract_pitch(midi_data)\n",
    "                melodic_interval = extract_melodic_intervals(pitch)\n",
    "                note_densities = extract_note_densities(midi_data)\n",
    "                inter_onset_interval = extract_inter_onset_intervals(midi_data)\n",
    "                \n",
    "                features = [pitch, melodic_interval, note_densities, inter_onset_interval]\n",
    "                \n",
    "                # Update the maximum length if needed\n",
    "                for feature in features:\n",
    "                    max_length = max(max_length, len(feature))\n",
    "                \n",
    "                X.append(features)\n",
    "                \n",
    "                # Assigning labels based on composer names\n",
    "                if \"Beethoven\" in composer_files: \n",
    "                    y.append(composer_label[\"Beethoven\"])\n",
    "                elif \"Brahms\" in composer_files: \n",
    "                    y.append(composer_label[\"Brahms\"])\n",
    "                elif \"Bach\" in composer_files: \n",
    "                    y.append(composer_label[\"Bach\"])\n",
    "                elif \"Schubert\" in composer_files: \n",
    "                    y.append(composer_label[\"Schubert\"])\n",
    "            except Exception as e:\n",
    "                print(f\"Error Processing {composer_files}: {str(e)}\")\n",
    "                continue\n",
    "    \n",
    "    X_padded = []\n",
    "    for features in X:\n",
    "        # Pad features to have equal length\n",
    "        padded_features = [np.pad(f, (0, max_length - len(f)), mode='constant') for f in features]\n",
    "        X_padded.append(padded_features)\n",
    "    \n",
    "    return np.array(X_padded), np.array(y)\n"
   ]
  },
  {
   "cell_type": "code",
   "execution_count": 127,
   "metadata": {},
   "outputs": [
    {
     "name": "stderr",
     "output_type": "stream",
     "text": [
      "/Users/ibrahimbukhari/Documents/CodingProjects/MidiAnalysis/MidiAnalysis/lib/python3.11/site-packages/pretty_midi/pretty_midi.py:100: RuntimeWarning: Tempo, Key or Time signature change events found on non-zero tracks.  This is not a valid type 0 or type 1 MIDI file.  Tempo, Key or Time Signature may be wrong.\n",
      "  warnings.warn(\n"
     ]
    },
    {
     "name": "stdout",
     "output_type": "stream",
     "text": [
      "Error Processing Datasets/PS1/Bach/WTK I, No. 14: Prelude and Fugue in F-sharp minor_BWV859_2305_prelude14.mid: no MTrk header at start of track\n"
     ]
    }
   ],
   "source": [
    "X, y = extract_features(\"Datasets/PS1\")"
   ]
  },
  {
   "cell_type": "markdown",
   "metadata": {},
   "source": [
    "## 1.4 Splitting the Data into Train Test"
   ]
  },
  {
   "cell_type": "markdown",
   "metadata": {},
   "source": [
    "In this part we will split the extracted features data structures into training and testing portions. This is to train our Machine Learning Algorithm"
   ]
  },
  {
   "cell_type": "code",
   "execution_count": 148,
   "metadata": {},
   "outputs": [],
   "source": [
    "from sklearn.model_selection import train_test_split\n",
    "\n",
    "# Split the data into training and testing sets\n",
    "X_train, X_test, y_train, y_test = train_test_split(X, y, test_size=0.3, random_state=42)"
   ]
  },
  {
   "cell_type": "markdown",
   "metadata": {},
   "source": [
    "# Step 2: Model Training"
   ]
  },
  {
   "cell_type": "markdown",
   "metadata": {},
   "source": [
    "## 2.1 Training our Model"
   ]
  },
  {
   "cell_type": "markdown",
   "metadata": {},
   "source": [
    "For classifying the composers we will use the Random Forest Classifier."
   ]
  },
  {
   "cell_type": "markdown",
   "metadata": {},
   "source": [
    "The '**train_model**' function trains the Random Forest Classifier by feeding it with a flattened version of the Data\n",
    "\n",
    "**Parameters**: X_train, a list of the data we will use in training the data <br/>\n",
    "                y_train, a list of labels for the classifier\n",
    "\n",
    "**Output**: A trained Random Forest Classifier Model "
   ]
  },
  {
   "cell_type": "code",
   "execution_count": 149,
   "metadata": {},
   "outputs": [],
   "source": [
    "from sklearn.ensemble import RandomForestClassifier\n",
    "\n",
    "def train_model(X_train, y_train):\n",
    "\n",
    "    # Flatten the padded features for training\n",
    "    X_train_flat = np.array([np.concatenate(x) for x in X_train])\n",
    "\n",
    "    # Train a random forest classifier\n",
    "    model = RandomForestClassifier()\n",
    "    model.fit(X_train_flat, y_train)\n",
    "\n",
    "    return model"
   ]
  },
  {
   "cell_type": "markdown",
   "metadata": {},
   "source": [
    "## 2.2 Evaluating our Model"
   ]
  },
  {
   "cell_type": "markdown",
   "metadata": {},
   "source": [
    "In '**evaluate_model**' function we will use the rest of our '*X_test*' data to make a prediction with our model and then evaluate our predictions with the orginal answers. We will then return our evaluation result\n",
    "\n",
    "**Parameters**: *model*, trained random forest model<br/>\n",
    "                *X_test*, the data we split for the test portion<br/>\n",
    "                *y_test*, the orignal labels to the X_test data<br/>\n",
    "\n",
    "**Output**: *accuracy*, a numerical value between 0 and 1 indicating our accuracy "
   ]
  },
  {
   "cell_type": "code",
   "execution_count": 133,
   "metadata": {},
   "outputs": [],
   "source": [
    "from sklearn.metrics import accuracy_score\n",
    "\n",
    "def evaluate_model(model, X_test, y_test):\n",
    "\n",
    "    # Flatten the padded features for testing\n",
    "    X_test_flat = np.array([np.concatenate(x) for x in X_test])\n",
    "\n",
    "    # Make predictions on the test set\n",
    "    y_pred = model.predict(X_test_flat)\n",
    "\n",
    "    # Calculate accuracy\n",
    "    accuracy = accuracy_score(y_test, y_pred)\n",
    "    \n",
    "    return accuracy"
   ]
  },
  {
   "cell_type": "markdown",
   "metadata": {},
   "source": [
    "## 2.3 Putting it all together"
   ]
  },
  {
   "cell_type": "code",
   "execution_count": null,
   "metadata": {},
   "outputs": [],
   "source": [
    "# Train the model\n",
    "model = train_model(X_train, y_train)\n",
    "\n",
    "# Evaluate the model\n",
    "print(\"Random Forest Classifier Model Accuracy :    \",evaluate_model(model, X_test, y_test))"
   ]
  },
  {
   "cell_type": "markdown",
   "metadata": {},
   "source": [
    "**Comment**\n",
    "\n",
    "-> Review Dtaa training strategy\n",
    "\n",
    "-> compare with other methods\n",
    "\n",
    "-> add additional metric for evaluation random forest\n",
    "\n",
    "-> research other classification algorithms\n",
    "\n",
    "\n",
    "\n",
    "**Important**\n",
    "\n",
    "-> we have explored midi library to extract important informatinon and insights which otherwise owuld not have been known"
   ]
  },
  {
   "cell_type": "markdown",
   "metadata": {},
   "source": [
    "# Step 3: Classify using Model"
   ]
  },
  {
   "cell_type": "markdown",
   "metadata": {},
   "source": [
    "## 3.1 Preprocessing the Midi file input"
   ]
  },
  {
   "cell_type": "code",
   "execution_count": 147,
   "metadata": {},
   "outputs": [],
   "source": [
    "def preprocess_midi_file(composer_file):\n",
    "    X = []\n",
    "    max_length = 0  # Variable to store the maximum length of features\n",
    "\n",
    "    try: \n",
    "        midi_data = pretty_midi.PrettyMIDI(composer_file)\n",
    "                \n",
    "        # Extracting different features from MIDI data\n",
    "        pitch = extract_pitch(midi_data)\n",
    "        melodic_interval = extract_melodic_intervals(pitch)\n",
    "        note_densities = extract_note_densities(midi_data)\n",
    "        inter_onset_interval = extract_inter_onset_intervals(midi_data)\n",
    "                \n",
    "        features = [pitch, melodic_interval, note_densities, inter_onset_interval]\n",
    "                \n",
    "        # Update the maximum length if needed\n",
    "        for feature in features:\n",
    "            max_length = max(max_length, len(feature))\n",
    "                \n",
    "        X.append(features)\n",
    "                \n",
    "    except Exception as e:\n",
    "        print(f\"Error Processing {composer_file}: {str(e)}\")\n",
    "    \n",
    "    X_padded = []\n",
    "    for features in X:\n",
    "        # Pad features to have equal length\n",
    "        padded_features = [np.pad(f, (0, max_length - len(f)), mode='constant') for f in features]\n",
    "        X_padded.append(padded_features)\n",
    "    \n",
    "    return np.array(X_padded), np.array(y)"
   ]
  },
  {
   "cell_type": "code",
   "execution_count": 161,
   "metadata": {},
   "outputs": [],
   "source": [
    "def classify_audio(model, midi_file):\n",
    "    # Pre-process the data\n",
    "    features = preprocess_midi_file(midi_file)\n",
    "\n",
    "    # Making a prediction using the trained model\n",
    "    composer_index = model.predict(features)[0]\n",
    "\n",
    "    composer_label = {0:'Bach', 1:'Beethoven', 2:'Brahms', 3:'Schubert'}    \n",
    "    composer = composer_label.get(composer_index, 'Unknown')\n",
    "\n",
    "    return composer\n"
   ]
  },
  {
   "cell_type": "code",
   "execution_count": null,
   "metadata": {},
   "outputs": [],
   "source": [
    "entriesps2 = os.listdir('Datasets/PS2')\n",
    "\n",
    "trained_model = model\n",
    "\n",
    "for ent in entriesps2:\n",
    "    file_name_ps2 = \"Datasets/PS2/\"+ent\n",
    "    composer = classify_audio(trained_model, file_name_ps2)\n",
    "    print(f\"Composer is {composer}\")"
   ]
  }
 ],
 "metadata": {
  "kernelspec": {
   "display_name": "Python 3.11.3 ('MidiAnalysis': venv)",
   "language": "python",
   "name": "python3"
  },
  "language_info": {
   "codemirror_mode": {
    "name": "ipython",
    "version": 3
   },
   "file_extension": ".py",
   "mimetype": "text/x-python",
   "name": "python",
   "nbconvert_exporter": "python",
   "pygments_lexer": "ipython3",
   "version": "3.11.3"
  },
  "orig_nbformat": 4,
  "vscode": {
   "interpreter": {
    "hash": "1271b762eb5a5b9e383800146d2e5d1fdc3df4c5149685a7980e41ddfe95506a"
   }
  }
 },
 "nbformat": 4,
 "nbformat_minor": 2
}
